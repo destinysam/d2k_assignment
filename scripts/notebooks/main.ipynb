{
 "cells": [
  {
   "cell_type": "code",
   "execution_count": null,
   "id": "227909aa",
   "metadata": {
    "scrolled": true
   },
   "outputs": [],
   "source": [
    "# Data Analaysis and manipulation\n",
    "import numpy as np\n",
    "import pandas as pd\n",
    "\n",
    "# Data Visiualization\n",
    "%matplotlib inline\n",
    "import matplotlib\n",
    "import matplotlib.pyplot as plt\n",
    "import seaborn as sns\n",
    "\n",
    "\n",
    "# Preporcessing \n",
    "from sklearn.preprocessing import LabelEncoder\n",
    "from sklearn.preprocessing import StandardScaler,OneHotEncoder\n",
    "from sklearn.model_selection import train_test_split\n",
    "from sklearn.compose import ColumnTransformer\n",
    "\n",
    "# Models\n",
    "\n",
    "from sklearn.cluster import KMeans\n",
    "from sklearn.tree import DecisionTreeClassifier\n",
    "from sklearn.linear_model import LogisticRegression\n",
    "from sklearn.ensemble import RandomForestClassifier\n",
    "\n",
    "# Metrics\n",
    "\n",
    "from sklearn.metrics import accuracy_score,classification_report,confusion_matrix\n",
    "from sklearn.metrics import silhouette_score\n",
    "\n",
    "import warnings\n",
    "\n",
    "warnings.filterwarnings(\"ignore\")\n",
    "\n"
   ]
  },
  {
   "cell_type": "code",
   "execution_count": null,
   "id": "af5e67d4",
   "metadata": {
    "scrolled": true
   },
   "outputs": [],
   "source": [
    "data = pd.read_csv(\"./data/BankChurners.csv\")"
   ]
  },
  {
   "cell_type": "markdown",
   "id": "4f10f3c7",
   "metadata": {},
   "source": [
    "# Dataset Exploration and Preprocessing"
   ]
  },
  {
   "cell_type": "markdown",
   "id": "1eeac008",
   "metadata": {},
   "source": [
    "\n",
    "- Check column info and data types\n",
    "- Check for duplicates\n",
    "- Check for null values\n",
    "- Check Basic statistics of Dataset"
   ]
  },
  {
   "cell_type": "code",
   "execution_count": null,
   "id": "19a5435e",
   "metadata": {
    "scrolled": true
   },
   "outputs": [],
   "source": [
    "pd.set_option('display.max_columns', 23) # View all columns\n",
    "\n",
    "data.head()"
   ]
  },
  {
   "cell_type": "markdown",
   "id": "3d2514a1",
   "metadata": {},
   "source": [
    "# Renaming columns to make it more readable"
   ]
  },
  {
   "cell_type": "code",
   "execution_count": null,
   "id": "f81e6f7f",
   "metadata": {
    "scrolled": true
   },
   "outputs": [],
   "source": [
    "data.rename(columns={\"Naive_Bayes_Classifier_Attrition_Flag_Card_Category_Contacts_Count_12_mon_Dependent_count_Education_Level_Months_Inactive_12_mon_1\":\"naive_month_1\",\"Naive_Bayes_Classifier_Attrition_Flag_Card_Category_Contacts_Count_12_mon_Dependent_count_Education_Level_Months_Inactive_12_mon_2\":\"naive_month_2\"},inplace=True)"
   ]
  },
  {
   "cell_type": "code",
   "execution_count": null,
   "id": "13f2463d",
   "metadata": {
    "scrolled": true
   },
   "outputs": [],
   "source": [
    "data.info() # Get info about the data type and value count in each column"
   ]
  },
  {
   "cell_type": "markdown",
   "id": "e9d029ad",
   "metadata": {},
   "source": [
    "# Check for null values"
   ]
  },
  {
   "cell_type": "code",
   "execution_count": null,
   "id": "c5306971",
   "metadata": {
    "scrolled": true
   },
   "outputs": [],
   "source": [
    "data.isnull().sum() # check for null values in dataset"
   ]
  },
  {
   "cell_type": "markdown",
   "id": "d66282c3",
   "metadata": {},
   "source": [
    "# Check Duplicates"
   ]
  },
  {
   "cell_type": "code",
   "execution_count": null,
   "id": "ea19742c",
   "metadata": {
    "scrolled": true
   },
   "outputs": [],
   "source": [
    "data.duplicated().sum() # check for duplicate values in dataset"
   ]
  },
  {
   "cell_type": "markdown",
   "id": "9b4d05ef",
   "metadata": {},
   "source": [
    "# Basis Statistics"
   ]
  },
  {
   "cell_type": "code",
   "execution_count": null,
   "id": "bf874417",
   "metadata": {
    "scrolled": true
   },
   "outputs": [],
   "source": [
    "pd.options.display.float_format = '{:.2f}'.format  # Set to display 2 decimal places to make it readable more\n",
    "\n",
    "data.describe().T #  Get basis statistics info like mean,standard deviation,percentile etc\n",
    "\n",
    "# pd.reset_option('display.float_format') # Reset option back to default"
   ]
  },
  {
   "cell_type": "markdown",
   "id": "c318f27a",
   "metadata": {},
   "source": [
    "#  Check for Outliers"
   ]
  },
  {
   "cell_type": "code",
   "execution_count": null,
   "id": "0928845e",
   "metadata": {},
   "outputs": [],
   "source": [
    "columns = [col for col in data.columns if data[col].dtype == \"int64\" or data[col].dtype == \"float64\"]\n",
    "\n",
    "x_axis=9\n",
    "y_axis=2\n",
    "start = 1\n",
    "for i in range(0,len(columns)):\n",
    "    plt.figure(figsize=(8,30))\n",
    "    plt.subplot(x_axis,y_axis,start)\n",
    "    sns.boxplot(data=data[columns[i]])\n",
    "    plt.xlabel(columns[i])\n",
    "    plt.show()\n",
    "    start = start  + 1\n"
   ]
  },
  {
   "cell_type": "markdown",
   "id": "20fd45bd",
   "metadata": {},
   "source": [
    "### apply IQR (Inter quantile Range) to control outliers on necessary features"
   ]
  },
  {
   "cell_type": "code",
   "execution_count": null,
   "id": "ba802e12",
   "metadata": {
    "scrolled": true
   },
   "outputs": [],
   "source": [
    "# Modifying column Total_Amt_Chng_Q4_Q1\n",
    "\n",
    "Q3_Total_Amt_Chng_Q4_Q1 = data.Total_Amt_Chng_Q4_Q1.quantile(0.75)\n",
    "Q1_Total_Amt_Chng_Q4_Q1 = data.Total_Amt_Chng_Q4_Q1.quantile(0.25)\n",
    "\n",
    "IQR = Q3_Total_Amt_Chng_Q4_Q1 - Q3_Total_Amt_Chng_Q4_Q1\n",
    "\n",
    "upper_limit = Q3_Total_Amt_Chng_Q4_Q1 + (1.5*IQR)\n",
    "lower_limit = Q1_Total_Amt_Chng_Q4_Q1 - (1.5*IQR)\n",
    "\n",
    "data = data[(data[\"Total_Amt_Chng_Q4_Q1\"] <= upper_limit) & (data[\"Total_Amt_Chng_Q4_Q1\"] >= lower_limit)]\n",
    "\n",
    "# Modifying column Total_Ct_Chng_Q4_Q1\n",
    "\n",
    "Q3_Total_Ct_Chng_Q4_Q1 = data.Total_Ct_Chng_Q4_Q1.quantile(0.75)\n",
    "Q1_Total_Ct_Chng_Q4_Q1 = data.Total_Ct_Chng_Q4_Q1.quantile(0.25)\n",
    "\n",
    "IQR = Q3_Total_Ct_Chng_Q4_Q1 - Q1_Total_Ct_Chng_Q4_Q1\n",
    "\n",
    "upper_limit = Q3_Total_Ct_Chng_Q4_Q1 + (1.5*IQR)\n",
    "lower_limit = Q1_Total_Ct_Chng_Q4_Q1 - (1.5*IQR)\n",
    "\n",
    "data = data[(data[\"Total_Ct_Chng_Q4_Q1\"] <= upper_limit) & (data[\"Total_Ct_Chng_Q4_Q1\"] >= lower_limit)]\n"
   ]
  },
  {
   "cell_type": "markdown",
   "id": "cc50e640",
   "metadata": {},
   "source": [
    "### insights\n",
    "\n",
    "\n",
    "-  The DataFrame has no null values.\n",
    "- There are no duplicate records in the DataFrame.\n",
    "- At first glance, the data appears to be within reality, without filling errors in the fields.\n",
    "- Found outliers in some of the columns,handled for necessary ones.\n",
    "-  IQR (Inter quantile range) is a statisitcal measure used to represent spread of data by focusing middle 50%(box) of the values."
   ]
  },
  {
   "cell_type": "markdown",
   "id": "02953531",
   "metadata": {},
   "source": [
    "# Data Analysis and Data Visiualization"
   ]
  },
  {
   "cell_type": "markdown",
   "id": "04c98aac",
   "metadata": {},
   "source": [
    "### Customer Demographics Analysis"
   ]
  },
  {
   "cell_type": "markdown",
   "id": "b465f9d1",
   "metadata": {},
   "source": [
    "### Check frequencey of different income categories"
   ]
  },
  {
   "cell_type": "code",
   "execution_count": null,
   "id": "7793aae2",
   "metadata": {
    "scrolled": true
   },
   "outputs": [],
   "source": [
    "%matplotlib inline\n",
    "plt.figure(figsize=(8,7))\n",
    "sns.countplot(data=data,x=\"Income_Category\")\n",
    "plt.show()"
   ]
  },
  {
   "cell_type": "markdown",
   "id": "972c9814",
   "metadata": {},
   "source": [
    "### Age Distribution"
   ]
  },
  {
   "cell_type": "code",
   "execution_count": null,
   "id": "c56c5a65",
   "metadata": {
    "scrolled": true
   },
   "outputs": [],
   "source": [
    "def get_age_type(age):       # Labeling the age groups to make it easy to understand patterns\n",
    "\n",
    "    if age >=18 and age <= 30:\n",
    "        return \"Young Adult\"\n",
    "    elif age <= 55:\n",
    "        return \"Middle Aged\"\n",
    "    else:\n",
    "        return \"Senior\"\n",
    "data[\"age_type\"] = data.Customer_Age.apply(get_age_type)"
   ]
  },
  {
   "cell_type": "markdown",
   "id": "b5852544",
   "metadata": {},
   "source": [
    "### Check frequency of different age groups"
   ]
  },
  {
   "cell_type": "code",
   "execution_count": null,
   "id": "5028b76e",
   "metadata": {
    "scrolled": true
   },
   "outputs": [],
   "source": [
    "plt.figure(figsize=(8,7))\n",
    "sns.countplot(data=data,x=\"age_type\")\n",
    "plt.show()"
   ]
  },
  {
   "cell_type": "markdown",
   "id": "2765f4a6",
   "metadata": {},
   "source": [
    "### no. of age groups for every income category"
   ]
  },
  {
   "cell_type": "code",
   "execution_count": null,
   "id": "be675d3b",
   "metadata": {
    "scrolled": true
   },
   "outputs": [],
   "source": [
    "\n",
    "income_age_groups = data.groupby([\"Income_Category\",\"age_type\"]).CLIENTNUM.count()  # Use groupby to categorize income category\n",
    "# age type of customers\n",
    "\n",
    "income_age = income_age_groups.reset_index() # reseting index to get columns easily\n",
    "plt.figure(figsize=(9,7))\n",
    "sns.barplot(x=\"Income_Category\",hue=\"age_type\",y=\"CLIENTNUM\",data=income_age)\n",
    "plt.ylabel(\"Count\")\n",
    "plt.show()"
   ]
  },
  {
   "cell_type": "code",
   "execution_count": null,
   "id": "afcab81c",
   "metadata": {
    "scrolled": true
   },
   "outputs": [],
   "source": [
    "sns.kdeplot(data=data,x=data.Customer_Age,fill=True,palette=\"crest\",color=\"g\",alpha=0.2)\n",
    "plt.show()"
   ]
  },
  {
   "cell_type": "markdown",
   "id": "3a1da527",
   "metadata": {},
   "source": [
    "- We found age column have normal distribution(bell shaped curve) i,e it is skewed only\n",
    "- Symmetric distribution: A symmetric distribution is a type of data distribution where the left and right sides of the distribution are equal"
   ]
  },
  {
   "cell_type": "markdown",
   "id": "8ef9c82e",
   "metadata": {},
   "source": [
    "### Martial Status Distribution"
   ]
  },
  {
   "cell_type": "code",
   "execution_count": null,
   "id": "1a1adfac",
   "metadata": {
    "scrolled": true
   },
   "outputs": [],
   "source": [
    "sns.histplot(data=data.Marital_Status)\n",
    "plt.xlabel(\"Martial Status\",fontsize=18)\n",
    "plt.show()"
   ]
  },
  {
   "cell_type": "markdown",
   "id": "02b46f7c",
   "metadata": {},
   "source": [
    "- We found age column have normal distribution(bell shaped curve) i,e it is skewed only"
   ]
  },
  {
   "cell_type": "markdown",
   "id": "63e5cb3d",
   "metadata": {},
   "source": [
    "### Income Distribution"
   ]
  },
  {
   "cell_type": "code",
   "execution_count": null,
   "id": "504a66ed",
   "metadata": {
    "scrolled": true
   },
   "outputs": [],
   "source": [
    "plt.figure(figsize=(15,10))\n",
    "sns.histplot(data=data.Income_Category)\n",
    "plt.xlabel(\"Income Category\",fontsize=18)\n",
    "plt.show()"
   ]
  },
  {
   "cell_type": "markdown",
   "id": "6e9f004a",
   "metadata": {},
   "source": [
    "- We found distribution of Income Category column as positively skewed distribution\n",
    "- Positively skewed distribution is a type of distribution which is longer on the right side of its peak than its left side"
   ]
  },
  {
   "cell_type": "markdown",
   "id": "14ce025a",
   "metadata": {},
   "source": [
    "# Credit Usage Analysis"
   ]
  },
  {
   "cell_type": "markdown",
   "id": "a01bfae0",
   "metadata": {},
   "source": [
    "### Does Customer Age affects Average Utilization Ratio"
   ]
  },
  {
   "cell_type": "code",
   "execution_count": null,
   "id": "15a73aa0",
   "metadata": {
    "scrolled": true
   },
   "outputs": [],
   "source": [
    "sns.regplot(data=data,x=\"Customer_Age\",y=\"Avg_Utilization_Ratio\")\n",
    "plt.show()"
   ]
  },
  {
   "cell_type": "markdown",
   "id": "f2b19fb7",
   "metadata": {},
   "source": [
    "#### - Insights\n",
    "- Average utlization ratio decreases from 65"
   ]
  },
  {
   "cell_type": "markdown",
   "id": "c0b3b6e5",
   "metadata": {},
   "source": [
    "### How Average open to buy changes with customer age"
   ]
  },
  {
   "cell_type": "code",
   "execution_count": null,
   "id": "dae37899",
   "metadata": {
    "scrolled": true
   },
   "outputs": [],
   "source": [
    "sns.lineplot(data=data,x=\"Customer_Age\",y=\"Avg_Open_To_Buy\")\n",
    "plt.show()"
   ]
  },
  {
   "cell_type": "markdown",
   "id": "ed080c85",
   "metadata": {},
   "source": [
    "#### - Insights\n",
    "- Avg_open_to_buy first increases with customer age then decreases with increase in age"
   ]
  },
  {
   "cell_type": "code",
   "execution_count": null,
   "id": "9ee741d0",
   "metadata": {
    "scrolled": true
   },
   "outputs": [],
   "source": [
    "attrition_gender = data.groupby([\"Attrition_Flag\",\"Gender\"]).CLIENTNUM.count()"
   ]
  },
  {
   "cell_type": "code",
   "execution_count": null,
   "id": "53558ea0",
   "metadata": {
    "scrolled": true
   },
   "outputs": [],
   "source": [
    "attrition_gender = attrition_gender.reset_index()\n",
    "\n",
    "sns.barplot(x=\"Attrition_Flag\",hue=\"Gender\",y=\"CLIENTNUM\",data=attrition_gender)\n",
    "plt.ylabel(\"Count\")\n",
    "plt.show()"
   ]
  },
  {
   "cell_type": "markdown",
   "id": "fba8119c",
   "metadata": {},
   "source": [
    "#### Insights\n",
    "\n",
    "- The above image shows women are the most attrited customers than men"
   ]
  },
  {
   "cell_type": "code",
   "execution_count": null,
   "id": "d745dbda",
   "metadata": {
    "scrolled": true
   },
   "outputs": [],
   "source": [
    "data[[\"Credit_Limit\",\"Total_Revolving_Bal\"]].describe()"
   ]
  },
  {
   "cell_type": "code",
   "execution_count": null,
   "id": "aa999877",
   "metadata": {
    "scrolled": true
   },
   "outputs": [],
   "source": [
    "data['Credit_Limit'].hist(bins=20, edgecolor='black')\n",
    "plt.title('Distribution of Credit Limit')\n",
    "plt.xlabel('Credit Limit')\n",
    "plt.ylabel('Frequency')\n",
    "plt.show()"
   ]
  },
  {
   "cell_type": "code",
   "execution_count": null,
   "id": "18f1a18f",
   "metadata": {
    "scrolled": true
   },
   "outputs": [],
   "source": [
    "data['Total_Revolving_Bal'].hist(bins=20, edgecolor='black')\n",
    "plt.title('Distribution of Total Revolving Balance')\n",
    "plt.xlabel('Total Revolving Balance')\n",
    "plt.ylabel('Frequency')\n",
    "plt.show()"
   ]
  },
  {
   "cell_type": "code",
   "execution_count": null,
   "id": "137f79c8",
   "metadata": {
    "scrolled": true
   },
   "outputs": [],
   "source": [
    "card_category_counts = data['Card_Category'].value_counts()\n",
    "sns.barplot(x=card_category_counts.index, y=card_category_counts.values)\n",
    "plt.title('Distribution of Customers by Card Category')\n",
    "plt.xlabel('Card Category')\n",
    "plt.ylabel('Count of Customers')\n",
    "plt.show()"
   ]
  },
  {
   "cell_type": "markdown",
   "id": "7abfaaed",
   "metadata": {},
   "source": [
    "# Check Correlation between different features"
   ]
  },
  {
   "cell_type": "code",
   "execution_count": null,
   "id": "35097e74",
   "metadata": {
    "scrolled": true
   },
   "outputs": [],
   "source": [
    "numerical_demographics = ['Customer_Age', 'Dependent_count']  # Adjust as needed\n",
    "corr = data[numerical_demographics + ['Credit_Limit', 'Total_Revolving_Bal']].corr()\n",
    "\n",
    "# Heatmap visualization\n",
    "sns.heatmap(corr, annot=True)\n",
    "plt.title('Correlation Matrix')\n",
    "plt.show()"
   ]
  },
  {
   "cell_type": "code",
   "execution_count": null,
   "id": "a55e8934",
   "metadata": {
    "scrolled": true
   },
   "outputs": [],
   "source": [
    "\n",
    "# Customer Age vs Credit Limit\n",
    "sns.lineplot(data=data,x=\"Customer_Age\",y=\"Credit_Limit\")\n",
    "plt.xlabel(\"Customer Age\")\n",
    "plt.ylabel(\"Credit Limit\")\n",
    "plt.title(f\"Credit Limit VS Customer Age\")\n",
    "plt.show()\n",
    "\n",
    "# Customer Age vs total revolving balance\n",
    "\n",
    "plt.scatter(data['Customer_Age'], data['Total_Revolving_Bal'])\n",
    "plt.xlabel('Customer Age')\n",
    "plt.ylabel('Total Revolving Balance')\n",
    "plt.title('Total Revolving Balance vs. Customer Age')\n",
    "plt.show()"
   ]
  },
  {
   "cell_type": "markdown",
   "id": "cde97002",
   "metadata": {},
   "source": [
    "# Preprocessing"
   ]
  },
  {
   "cell_type": "code",
   "execution_count": null,
   "id": "fd3910f1",
   "metadata": {
    "scrolled": true
   },
   "outputs": [],
   "source": [
    "data.drop([\"CLIENTNUM\",\"naive_month_2\",\"naive_month_1\",\"age_type\"],axis=1,inplace=True)"
   ]
  },
  {
   "cell_type": "code",
   "execution_count": null,
   "id": "3f2d457b",
   "metadata": {
    "scrolled": true
   },
   "outputs": [],
   "source": [
    "numerical_cols = [col for col in data.columns if data[col].dtype == \"float64\" or data[col].dtype == \"int64\"]\n",
    "\n",
    "\n",
    "categorical_cols = [col for col in data.columns if data[col].dtype == \"object\"]"
   ]
  },
  {
   "cell_type": "code",
   "execution_count": null,
   "id": "583f107c",
   "metadata": {
    "scrolled": true
   },
   "outputs": [],
   "source": [
    "# Column Transformer is data preprocessing tool used transform columns separatly\n",
    "preprocessor = ColumnTransformer(\n",
    "[\n",
    "    (\"one-hot\",OneHotEncoder(handle_unknown=\"ignore\"),categorical_cols),\n",
    "    (\"standard\",StandardScaler(),numerical_cols)\n",
    "])\n",
    "preprocessor.fit_transform(data)"
   ]
  },
  {
   "cell_type": "code",
   "execution_count": null,
   "id": "f21af31f",
   "metadata": {
    "scrolled": true
   },
   "outputs": [],
   "source": [
    "scaled_df = pd.DataFrame(preprocessor.fit_transform(data),columns=preprocessor.get_feature_names_out())"
   ]
  },
  {
   "cell_type": "markdown",
   "id": "e0894406",
   "metadata": {},
   "source": [
    "# Check optimal no. of Clusters"
   ]
  },
  {
   "cell_type": "markdown",
   "id": "cc96d5fc",
   "metadata": {},
   "source": [
    "### Elbow Method "
   ]
  },
  {
   "cell_type": "code",
   "execution_count": null,
   "id": "2910a0a3",
   "metadata": {
    "scrolled": true
   },
   "outputs": [],
   "source": [
    "inertia = []\n",
    "for i in range(1,11):\n",
    "    model = KMeans(n_clusters=i,init=\"k-means++\",random_state=40,max_iter=300)\n",
    "    model.fit(scaled_df)\n",
    "    inertia.append(model.inertia_)\n",
    "    "
   ]
  },
  {
   "cell_type": "markdown",
   "id": "b5af4fcf",
   "metadata": {},
   "source": [
    "### Silhouette Score\n",
    "\n",
    "- Silhouette score (S) tells how well a data point lies within its assigned cluster. it ranges from -1 to 1"
   ]
  },
  {
   "cell_type": "code",
   "execution_count": null,
   "id": "75d5867b",
   "metadata": {
    "scrolled": true
   },
   "outputs": [],
   "source": [
    "silhouet_score = []\n",
    "for i in range(2,11):\n",
    "    model = KMeans(n_clusters=i,init=\"k-means++\",random_state=40,max_iter=300)\n",
    "    model.fit(scaled_df)\n",
    "    score = silhouette_score(scaled_df,model.labels_)\n",
    "    silhouet_score.append(score)"
   ]
  },
  {
   "cell_type": "code",
   "execution_count": null,
   "id": "152409fe",
   "metadata": {
    "scrolled": true
   },
   "outputs": [],
   "source": [
    "sns.lineplot(data=inertia)\n",
    "plt.xlabel(\"Inertia\")\n",
    "plt.title(\"Elbow Method\")\n",
    "plt.show()"
   ]
  },
  {
   "cell_type": "code",
   "execution_count": null,
   "id": "9ae44cd7",
   "metadata": {
    "scrolled": true
   },
   "outputs": [],
   "source": [
    "plt.plot(range(2,11),silhouet_score)\n",
    "plt.xlabel(\"Clusters\")\n",
    "plt.title(\"Silhouette Method\")\n",
    "plt.show()"
   ]
  },
  {
   "cell_type": "markdown",
   "id": "5b81dc02",
   "metadata": {},
   "source": [
    "# Insights\n",
    "\n",
    "- While checking the silhouette plot we can see the silhouette score is high on cluster 4\n",
    "- we will take optimal no. of clusters as 4\n",
    "\n"
   ]
  },
  {
   "cell_type": "markdown",
   "id": "18bbee6a",
   "metadata": {},
   "source": [
    "# Model Building"
   ]
  },
  {
   "cell_type": "code",
   "execution_count": null,
   "id": "aa9c97d8",
   "metadata": {
    "scrolled": true
   },
   "outputs": [],
   "source": [
    "model = KMeans(n_clusters=4,init=\"k-means++\",random_state=40,max_iter=300)\n",
    "model.fit(scaled_df)"
   ]
  },
  {
   "cell_type": "code",
   "execution_count": null,
   "id": "433a15eb",
   "metadata": {
    "scrolled": true
   },
   "outputs": [],
   "source": [
    "model.inertia_"
   ]
  },
  {
   "cell_type": "code",
   "execution_count": null,
   "id": "c63cd4a5",
   "metadata": {
    "scrolled": true
   },
   "outputs": [],
   "source": [
    "model.labels_"
   ]
  },
  {
   "cell_type": "code",
   "execution_count": null,
   "id": "ab6e1e4b",
   "metadata": {
    "scrolled": true
   },
   "outputs": [],
   "source": [
    "cluster_centers = model.cluster_centers_"
   ]
  },
  {
   "cell_type": "code",
   "execution_count": null,
   "id": "e6a8d7ae",
   "metadata": {
    "scrolled": true
   },
   "outputs": [],
   "source": [
    "labels = model.labels_"
   ]
  },
  {
   "cell_type": "code",
   "execution_count": null,
   "id": "1fa6d1f8",
   "metadata": {
    "scrolled": true
   },
   "outputs": [],
   "source": [
    "data.head(4)"
   ]
  },
  {
   "cell_type": "code",
   "execution_count": null,
   "id": "9bd4af87",
   "metadata": {
    "scrolled": true
   },
   "outputs": [],
   "source": [
    "data.columns"
   ]
  },
  {
   "cell_type": "markdown",
   "id": "d6ee322b",
   "metadata": {},
   "source": [
    "# PCA\n",
    "\n",
    "\n",
    "- It's a technique used in data analysis to simplify complex datasets.it helps in dimensionality reduction and helps to priortize the variables which have most variation in the list."
   ]
  },
  {
   "cell_type": "code",
   "execution_count": null,
   "id": "763361c6",
   "metadata": {
    "scrolled": true
   },
   "outputs": [],
   "source": [
    "from sklearn.pipeline import Pipeline\n",
    "from sklearn.decomposition import PCA"
   ]
  },
  {
   "cell_type": "code",
   "execution_count": null,
   "id": "7fe551b4",
   "metadata": {
    "scrolled": true
   },
   "outputs": [],
   "source": [
    "\n",
    "pipeline = Pipeline(\n",
    "[\n",
    "    (\"preprocessing\",preprocessor),\n",
    "    (\"pca\",PCA(n_components=2,random_state=40)),\n",
    "    (\"clustering\",KMeans(n_clusters=4,init=\"k-means++\",random_state=42,max_iter=300)),\n",
    "])\n"
   ]
  },
  {
   "cell_type": "code",
   "execution_count": null,
   "id": "064e20b2",
   "metadata": {
    "scrolled": true
   },
   "outputs": [],
   "source": [
    "pipeline.fit(data)"
   ]
  },
  {
   "cell_type": "code",
   "execution_count": null,
   "id": "080630ee",
   "metadata": {
    "scrolled": true
   },
   "outputs": [],
   "source": [
    "df = data.copy()\n",
    "\n",
    "df[\"cluster\"] = pipeline[\"clustering\"].labels_"
   ]
  },
  {
   "cell_type": "code",
   "execution_count": null,
   "id": "dbfb08af",
   "metadata": {
    "scrolled": true
   },
   "outputs": [],
   "source": [
    "df.head(4)"
   ]
  },
  {
   "cell_type": "code",
   "execution_count": null,
   "id": "489c6a77",
   "metadata": {
    "scrolled": true
   },
   "outputs": [],
   "source": [
    "# Count each cluster in the dataset\n",
    "\n",
    "cluster_count = df[\"cluster\"].value_counts()"
   ]
  },
  {
   "cell_type": "code",
   "execution_count": null,
   "id": "fc10d753",
   "metadata": {
    "scrolled": true
   },
   "outputs": [],
   "source": [
    "cluster_count"
   ]
  },
  {
   "cell_type": "code",
   "execution_count": null,
   "id": "d13f4cb0",
   "metadata": {
    "scrolled": true
   },
   "outputs": [],
   "source": [
    "plt.figure(figsize=(5,5))\n",
    "plt.pie(cluster_count,labels=cluster_count.index,autopct=\"%1.1f%%\",startangle=140,labeldistance=1.1)\n",
    "plt.title(\"Cluster Distribution\")\n",
    "plt.show()"
   ]
  },
  {
   "cell_type": "markdown",
   "id": "d8cfbda2",
   "metadata": {},
   "source": [
    "- Most of the customers either fall in 0 or 1 cluster"
   ]
  },
  {
   "cell_type": "code",
   "execution_count": null,
   "id": "158f302b",
   "metadata": {
    "scrolled": true
   },
   "outputs": [],
   "source": [
    "df_pca = pd.DataFrame(\n",
    "pipeline[:-1].fit_transform(data),\n",
    "columns=pipeline[:-1].get_feature_names_out())\n",
    "df_pca.head(5)"
   ]
  },
  {
   "cell_type": "code",
   "execution_count": null,
   "id": "e179b017",
   "metadata": {
    "scrolled": true
   },
   "outputs": [],
   "source": [
    "centroids = pipeline[\"clustering\"].cluster_centers_"
   ]
  },
  {
   "cell_type": "code",
   "execution_count": null,
   "id": "6039856e",
   "metadata": {
    "scrolled": true
   },
   "outputs": [],
   "source": [
    "centroids"
   ]
  },
  {
   "cell_type": "code",
   "execution_count": null,
   "id": "38eb7959",
   "metadata": {
    "scrolled": true
   },
   "outputs": [],
   "source": [
    "print(f'Explained Variance Ratio of component 1: {round(pipeline[\"pca\"].explained_variance_ratio_[0],2)}')\n",
    "print(f'Explained Variance Ratio of component 2: {round(pipeline[\"pca\"].explained_variance_ratio_[1],2)}')"
   ]
  },
  {
   "cell_type": "code",
   "execution_count": null,
   "id": "8cc50b22",
   "metadata": {
    "scrolled": true
   },
   "outputs": [],
   "source": [
    "df_pca[\"cluster\"] = pipeline[\"clustering\"].labels_"
   ]
  },
  {
   "cell_type": "code",
   "execution_count": null,
   "id": "29f0ae13",
   "metadata": {
    "scrolled": true
   },
   "outputs": [],
   "source": [
    "plt.figure(figsize=(8, 8))\n",
    "   \n",
    "sp = sns.scatterplot(\n",
    "        x=\"pca0\",\n",
    "        y=\"pca1\",\n",
    "        s=50,\n",
    "        data=df_pca,\n",
    "        hue=\"cluster\",\n",
    "        palette='tab10'\n",
    "    )\n",
    "   \n",
    "\n",
    "plt.title(\"Clustering results from credit card use\",fontsize=20)\n",
    "plt.legend(bbox_to_anchor=(1.05, 1), loc=2, borderaxespad=0.0)\n",
    "   \n",
    "plt.show()"
   ]
  },
  {
   "cell_type": "markdown",
   "id": "897a63cf",
   "metadata": {},
   "source": [
    "# Segment Analysis"
   ]
  },
  {
   "cell_type": "markdown",
   "id": "4a67b8d7",
   "metadata": {},
   "source": [
    "## Analyze the clusters"
   ]
  },
  {
   "cell_type": "markdown",
   "id": "fa9cc9c2",
   "metadata": {},
   "source": [
    "#### Attrition Flag"
   ]
  },
  {
   "cell_type": "code",
   "execution_count": null,
   "id": "f54d3eb5",
   "metadata": {},
   "outputs": [],
   "source": [
    "fig, axs = plt.subplots(ncols=2,nrows=2, figsize=(20,14))\n",
    "\n",
    "df[df['cluster'] == 0]['Attrition_Flag'].value_counts().sort_index().plot.barh(ax=axs[0,0], title='Cluster 1')\n",
    "df[df['cluster'] == 1]['Attrition_Flag'].value_counts().sort_index().plot.barh(ax=axs[0,1], title='Cluster 2')\n",
    "df[df['cluster'] == 2]['Attrition_Flag'].value_counts().sort_index().plot.barh(ax=axs[1,0], title='Cluster 3')\n",
    "df[df['cluster'] == 3]['Attrition_Flag'].value_counts().sort_index().plot.barh(ax=axs[1,1], title='Cluster 4')\n",
    "\n",
    "plt.show()"
   ]
  },
  {
   "cell_type": "markdown",
   "id": "417c5830",
   "metadata": {},
   "source": [
    "## Insights\n",
    "\n",
    "- It looke like cluster 2 and 3 have highest  customer attrition rate,while as cluster 1 and cluster have low attrition"
   ]
  },
  {
   "cell_type": "code",
   "execution_count": null,
   "id": "42578976",
   "metadata": {
    "scrolled": true
   },
   "outputs": [],
   "source": [
    "scaler = StandardScaler()\n",
    "scaled_df = pd.DataFrame(scaler.fit_transform(data[numerical_cols]),columns=numerical_cols)\n",
    "scaled_df[\"cluster\"] = df[\"cluster\"]"
   ]
  },
  {
   "cell_type": "code",
   "execution_count": null,
   "id": "e753c220",
   "metadata": {
    "scrolled": true
   },
   "outputs": [],
   "source": [
    "fix, axs = plt.subplots(ncols=2,nrows=2, figsize=(20,32))\n",
    "\n",
    "scaled_df[scaled_df['cluster'] == 0][numerical_cols].mean().plot.barh(ax=axs[0,0], xlim=(-1.5, 3), figsize=(20,20), sharey=True, title='Cluster 1')\n",
    "scaled_df[scaled_df['cluster'] == 1][numerical_cols].mean().plot.barh(ax=axs[0,1], xlim=(-1.5, 3), figsize=(20,20), sharey=True, title='Cluster 2')\n",
    "scaled_df[scaled_df['cluster'] == 2][numerical_cols].mean().plot.barh(ax=axs[1,0], xlim=(-1.5, 3), figsize=(20,20), sharey=True, title='Cluster 3')\n",
    "scaled_df[scaled_df['cluster'] == 3][numerical_cols].mean().plot.barh(ax=axs[1,1], xlim=(-1.5, 3), figsize=(20,20), sharey=True, title='Cluster 4')\n",
    "\n",
    "plt.show()"
   ]
  },
  {
   "cell_type": "markdown",
   "id": "29c3565a",
   "metadata": {},
   "source": [
    "### Inshights\n",
    "\n",
    "#### Group 1\n",
    "\n",
    "- Looks like total transaction amount and total transaction count is high, while as Total relationship count is low\n",
    "\n",
    "#### Group 2\n",
    "\n",
    "- Looks like total transaction amount and total transaction count is high, while as credit limit,Average open to buy,total relationship count and months on book are low\n",
    "\n",
    "\n",
    "#### Group 3\n",
    "\n",
    "- Almost everything looks neutral\n",
    "\n",
    "\n",
    "#### Group 4\n",
    "\n",
    "- Looks like total transaction amount, total transaction count,months_inactive and dependent count is higher,while as total relationship count,total count change in Q4 and total amuont change in Q4 are low"
   ]
  },
  {
   "cell_type": "code",
   "execution_count": null,
   "id": "7988d0cc",
   "metadata": {
    "scrolled": true
   },
   "outputs": [],
   "source": [
    "scaled_df.head(4)"
   ]
  },
  {
   "cell_type": "markdown",
   "id": "7f9075b2",
   "metadata": {},
   "source": [
    "#### Customer Age"
   ]
  },
  {
   "cell_type": "code",
   "execution_count": null,
   "id": "fa366afb",
   "metadata": {
    "scrolled": true
   },
   "outputs": [],
   "source": [
    "fig, axs = plt.subplots(ncols=2,nrows=2, figsize=(12,14))\n",
    "\n",
    "sns.histplot(df[df['cluster'] == 0]['Customer_Age'], ax=axs[0,0], binrange=(20,70), binwidth=5).set(title='Cluster 1', ylabel='', xlabel='')\n",
    "sns.histplot(df[df['cluster'] == 1]['Customer_Age'], ax=axs[0,1], binrange=(20,70), binwidth=5).set(title='Cluster 2', ylabel='', xlabel='')\n",
    "sns.histplot(df[df['cluster'] == 2]['Customer_Age'], ax=axs[1,0], binrange=(20,70), binwidth=5).set(title='Cluster 3', ylabel='', xlabel='')\n",
    "sns.histplot(df[df['cluster'] == 3]['Customer_Age'], ax=axs[1,1], binrange=(20,70), binwidth=5).set(title='Cluster 4', ylabel='', xlabel='')\n",
    "plt.show()"
   ]
  },
  {
   "cell_type": "markdown",
   "id": "41631319",
   "metadata": {},
   "source": [
    "### Inshights\n",
    "\n",
    "- Almost every cluster have high age count between 40 to 55\n",
    "- Cluster 1 have most of the customers in age group 40 to 50"
   ]
  },
  {
   "cell_type": "code",
   "execution_count": null,
   "id": "f379ce1a",
   "metadata": {
    "scrolled": true
   },
   "outputs": [],
   "source": [
    "#### Age\n",
    "\n",
    "\n",
    "fix, axs = plt.subplots(ncols=2,nrows=2, figsize=(12,14))\n",
    "\n",
    "df[df['cluster'] == 0]['Gender'].value_counts().sort_index(ascending=False).plot.pie(ax=axs[0,0], ylabel='', title='Cluster 1', autopct='%.1f%%')\n",
    "df[df['cluster'] == 1]['Gender'].value_counts().sort_index(ascending=False).plot.pie(ax=axs[0,1], ylabel='', title='Cluster 2', autopct='%.1f%%')\n",
    "df[df['cluster'] == 2]['Gender'].value_counts().sort_index(ascending=False).plot.pie(ax=axs[1,0], ylabel='', title='Cluster 3', autopct='%.1f%%')\n",
    "df[df['cluster'] == 3]['Gender'].value_counts().sort_index(ascending=False).plot.pie(ax=axs[1,1], ylabel='', title='Cluster 4', autopct='%.1f%%')\n",
    "\n",
    "plt.show()"
   ]
  },
  {
   "cell_type": "markdown",
   "id": "bc455963",
   "metadata": {},
   "source": [
    "#### Martial Status"
   ]
  },
  {
   "cell_type": "code",
   "execution_count": null,
   "id": "b5fa10a1",
   "metadata": {
    "scrolled": true
   },
   "outputs": [],
   "source": [
    "fix, axs = plt.subplots(ncols=2,nrows=2, figsize=(12,14))\n",
    "\n",
    "df[df['cluster'] == 0]['Marital_Status'].value_counts().sort_index().plot(kind='pie', ax=axs[0,0], ylabel='', title='Cluster 1', colors=['r','b','g','y'], autopct='%.1f%%')\n",
    "df[df['cluster'] == 1]['Marital_Status'].value_counts().sort_index().plot(kind='pie', ax=axs[0,1], ylabel='', title='Cluster 2', colors=['r','b','g','y'], autopct='%.1f%%')\n",
    "df[df['cluster'] == 2]['Marital_Status'].value_counts().sort_index().plot(kind='pie', ax=axs[1,0], ylabel='', title='Cluster 3', colors=['r','b','g','y'], autopct='%.1f%%')\n",
    "df[df['cluster'] == 3]['Marital_Status'].value_counts().sort_index().plot(kind='pie', ax=axs[1,1], ylabel='', title='Cluster 4', colors=['r','b','g','y'], autopct='%.1f%%')\n",
    "\n",
    "plt.show()"
   ]
  },
  {
   "cell_type": "markdown",
   "id": "efa20da0",
   "metadata": {},
   "source": [
    "#### Insights\n",
    "\n",
    "- Cluster 1 have highest rate  of married % compared with other clusters"
   ]
  },
  {
   "cell_type": "markdown",
   "id": "e09e8cd2",
   "metadata": {},
   "source": [
    "#### Income Level"
   ]
  },
  {
   "cell_type": "code",
   "execution_count": null,
   "id": "836b9c18",
   "metadata": {
    "scrolled": true
   },
   "outputs": [],
   "source": [
    "fix, axs = plt.subplots(ncols=2,nrows=2, figsize=(12,14))\n",
    "\n",
    "df[df['cluster'] == 0]['Income_Category'].value_counts().sort_index().plot(kind='pie', ax=axs[0,0], ylabel='', title='Cluster 1', colors=['r','b','g','gray','y','pink'], autopct='%.1f%%')\n",
    "df[df['cluster'] == 1]['Income_Category'].value_counts().sort_index().plot(kind='pie', ax=axs[0,1], ylabel='', title='Cluster 2', colors=['r','b','g','gray','y','pink'], autopct='%.1f%%')\n",
    "df[df['cluster'] == 2]['Income_Category'].value_counts().sort_index().plot(kind='pie', ax=axs[1,0], ylabel='', title='Cluster 3', colors=['r','b','g','gray','y','pink'], autopct='%.1f%%')\n",
    "df[df['cluster'] == 3]['Income_Category'].value_counts().sort_index().plot(kind='pie', ax=axs[1,1], ylabel='', title='Cluster 4', colors=['r','b','g','gray','y','pink'], autopct='%.1f%%')\n",
    "plt.show()"
   ]
  },
  {
   "cell_type": "markdown",
   "id": "785127d9",
   "metadata": {},
   "source": [
    "#### Insghits\n",
    "\n",
    "- Cluster 2 have highest level of income with 27.2% of having $120K\n",
    "\n",
    "- Cluster 1 have lowest level of income because 55.5% are having <$40K"
   ]
  },
  {
   "cell_type": "markdown",
   "id": "735c48cc",
   "metadata": {},
   "source": [
    "#### Card Type"
   ]
  },
  {
   "cell_type": "code",
   "execution_count": null,
   "id": "865d1d30",
   "metadata": {
    "scrolled": true
   },
   "outputs": [],
   "source": [
    "fix, axs = plt.subplots(ncols=2,nrows=2, figsize=(12,14))\n",
    "\n",
    "df[df['cluster'] == 0]['Card_Category'].value_counts().sort_index().plot.barh(ax=axs[0,0], ylabel='', title='Cluster 1')\n",
    "df[df['cluster'] == 1]['Card_Category'].value_counts().sort_index().plot.barh(ax=axs[0,1], ylabel='', title='Cluster 2')\n",
    "df[df['cluster'] == 2]['Card_Category'].value_counts().sort_index().plot.barh(ax=axs[1,0], ylabel='', title='Cluster 3')\n",
    "df[df['cluster'] == 3]['Card_Category'].value_counts().sort_index().plot.barh(ax=axs[1,1], ylabel='', title='Cluster 4')\n",
    "\n",
    "plt.show()"
   ]
  },
  {
   "cell_type": "markdown",
   "id": "5b4f0621",
   "metadata": {},
   "source": [
    "#### Insghits\n",
    "- Looks like every cluster have almost users using Blue card Type\n",
    "- Cluster 2 have good number of users using Silver Card Type"
   ]
  },
  {
   "cell_type": "markdown",
   "id": "2593b7be",
   "metadata": {},
   "source": [
    "# Predictive Modeling"
   ]
  },
  {
   "cell_type": "markdown",
   "id": "83bef4d7",
   "metadata": {},
   "source": [
    "### Prepare Data"
   ]
  },
  {
   "cell_type": "code",
   "execution_count": null,
   "id": "e8ee0323",
   "metadata": {
    "scrolled": true
   },
   "outputs": [],
   "source": [
    "encoder = LabelEncoder()  # Using label encoder to encode categorical column\n",
    "data[\"Attrition_Flag\"] = encoder.fit_transform(data.Attrition_Flag)"
   ]
  },
  {
   "cell_type": "code",
   "execution_count": null,
   "id": "0fc9bdf9",
   "metadata": {
    "scrolled": true
   },
   "outputs": [],
   "source": [
    "X  = data.drop(\"Attrition_Flag\",axis=1)\n",
    "y = data.Attrition_Flag"
   ]
  },
  {
   "cell_type": "markdown",
   "id": "6c10b972",
   "metadata": {},
   "source": [
    "### Split Data"
   ]
  },
  {
   "cell_type": "code",
   "execution_count": null,
   "id": "a614a8a1",
   "metadata": {
    "scrolled": true
   },
   "outputs": [],
   "source": [
    "X_train,X_valid,y_train,y_valid = train_test_split(X,y,test_size=0.3,random_state=42)"
   ]
  },
  {
   "cell_type": "code",
   "execution_count": null,
   "id": "bb63e40a",
   "metadata": {
    "scrolled": true
   },
   "outputs": [],
   "source": [
    "categorical_cols.remove(\"Attrition_Flag\")"
   ]
  },
  {
   "cell_type": "code",
   "execution_count": null,
   "id": "78e6c812",
   "metadata": {
    "scrolled": true
   },
   "outputs": [],
   "source": [
    "preprocessor = ColumnTransformer(\n",
    "[\n",
    "    (\"onehot\",OneHotEncoder(handle_unknown=\"ignore\"),categorical_cols),\n",
    "    (\"standard\",StandardScaler(),numerical_cols),\n",
    "\n",
    "])"
   ]
  },
  {
   "cell_type": "markdown",
   "id": "af2baf4a",
   "metadata": {},
   "source": [
    "### Model Evaluation"
   ]
  },
  {
   "cell_type": "code",
   "execution_count": null,
   "id": "b5d6f74a",
   "metadata": {
    "scrolled": true
   },
   "outputs": [],
   "source": [
    "# utility function to test model performence\n",
    "# Pipeline is a structured approach to build machine learning model.\n",
    "\n",
    "def train_test_model(model,model_name):\n",
    "    pipeline = Pipeline(steps=\n",
    "[\n",
    "    (\"preprocessor\",preprocessor),\n",
    "    (\"model\",model)\n",
    "])\n",
    "    \n",
    "    pipeline.fit(X_train,y_train)\n",
    "    y_pred = pipeline.predict(X_valid)\n",
    "    print(\"*\"*20)\n",
    "    print(f\"Model {model_name} accuracy is {round(accuracy_score(y_valid,y_pred),2)}\")\n",
    "    print(\"Classification Report\")\n",
    "    print(classification_report(y_valid,y_pred))\n",
    "    print(\"Confusion Matrix\")\n",
    "    sns.heatmap(confusion_matrix(y_valid,y_pred),annot=True,fmt=\"d\")\n",
    "    plt.show()"
   ]
  },
  {
   "cell_type": "code",
   "execution_count": null,
   "id": "e7213407",
   "metadata": {
    "scrolled": true
   },
   "outputs": [],
   "source": [
    "train_test_model(LogisticRegression(),\"Logistic Regression\")\n",
    "\n",
    "train_test_model(DecisionTreeClassifier(),\"Decision Tree Classifier\")\n",
    "\n",
    "train_test_model(RandomForestClassifier(),\"Random Forest Classifier\")"
   ]
  },
  {
   "cell_type": "markdown",
   "id": "0ef60b12",
   "metadata": {},
   "source": [
    "# Strength and Weakness of Models used"
   ]
  },
  {
   "cell_type": "markdown",
   "id": "3a617020",
   "metadata": {},
   "source": [
    "### Logistic Regression\n",
    "\n",
    "#### Strengths:\n",
    "\n",
    "-    Understand feature influence through coefficients.\n",
    "-    Easy to understand and implement\n",
    "-    training is fast and it's suitable for large datasets.\n",
    "-    Works well with binary classification.\n",
    "\n",
    "#### Weaknesses:\n",
    "\n",
    "-    Limited to binary classification.\n",
    "-    May struggle with non-linear relationships.\n",
    "-    Prone to overfitting\n",
    "-    Limited ability to handle complex relationships between features"
   ]
  },
  {
   "cell_type": "markdown",
   "id": "fb00592c",
   "metadata": {},
   "source": [
    "### Decision Tree Classifier\n",
    "\n",
    "#### Strengths:\n",
    "\n",
    "-    Handles complex, non-linear relationships between features and the target variable effectively, often without requiring explicit feature engineering.\n",
    "-    Decision trees are insensitive to feature scaling. We don't need to standardize or normalize your data beforehand, simplifying the preprocessing step.\n",
    "-    Less sensitive to outliers in the data compared to models.\n",
    "-    ItCan handle both categorical and numerical features directly, without the need for separate encoding of categorical features.\n",
    "\n",
    "#### Weaknesses:\n",
    "\n",
    "-   Prone to overfitting the training data if not pruned or regularized.Leads to poor performance on unseen data.\n",
    "-   Small changes in the training data can lead to significant changes in the tree structure, resulting in high variance and potentially unstable models.\n",
    "-    Predicting new data points can be computationally expensive compared to simpler models like logistic regression"
   ]
  },
  {
   "cell_type": "markdown",
   "id": "1e2a2826",
   "metadata": {},
   "source": [
    "### Random \n",
    "\n",
    "\n",
    "#### Strengths:\n",
    "\n",
    "-    Makes good predictions by combining many decision trees.\n",
    "-    Works well with different data types and can handle missing values.\n",
    "-    Less prone to overfitting: Harder to learn the training data too closely.\n",
    "\n",
    "#### Weaknesses:\n",
    "\n",
    "-    Difficult to understand how it arrives at specific predictions.\n",
    "-    Training large datasets with many trees can be time-consuming.\n",
    "-    Making predictions can be slower than some simpler models.\n",
    "\n"
   ]
  },
  {
   "cell_type": "markdown",
   "id": "2b54dcdc",
   "metadata": {},
   "source": [
    "# How model performence can be Improved"
   ]
  },
  {
   "cell_type": "markdown",
   "id": "18d0b440",
   "metadata": {},
   "source": [
    "- Feature Engineering i,e feature selection etc\n",
    "\n",
    "- Regularization Techniques like L1(Lasso) and L2(Ridge) can be used to overcome overfitting\n",
    "\n",
    "- Hyperparamter tuning can be done on models\n",
    "\n",
    "- Testing models on different subsets of dataset to get acutal accuracy using Cross Validation Score and KFold"
   ]
  },
  {
   "cell_type": "code",
   "execution_count": null,
   "id": "79fb8967",
   "metadata": {
    "scrolled": true
   },
   "outputs": [],
   "source": []
  }
 ],
 "metadata": {
  "kernelspec": {
   "display_name": "Python 3 (ipykernel)",
   "language": "python",
   "name": "python3"
  },
  "language_info": {
   "codemirror_mode": {
    "name": "ipython",
    "version": 3
   },
   "file_extension": ".py",
   "mimetype": "text/x-python",
   "name": "python",
   "nbconvert_exporter": "python",
   "pygments_lexer": "ipython3",
   "version": "3.10.12"
  }
 },
 "nbformat": 4,
 "nbformat_minor": 5
}
